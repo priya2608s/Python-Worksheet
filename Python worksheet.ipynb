{
 "cells": [
  {
   "cell_type": "code",
   "execution_count": 1,
   "id": "680a0715-3a40-4454-95d2-6a7d7939b479",
   "metadata": {},
   "outputs": [
    {
     "name": "stdout",
     "output_type": "stream",
     "text": [
      "welcome\n"
     ]
    }
   ],
   "source": [
    "print ('welcome')"
   ]
  },
  {
   "cell_type": "code",
   "execution_count": 3,
   "id": "1742b905-1b43-448c-8bf7-09cb24778ac4",
   "metadata": {},
   "outputs": [
    {
     "name": "stdout",
     "output_type": "stream",
     "text": [
      "python programming high level programming language\n"
     ]
    }
   ],
   "source": [
    "print('python programming', end=' ')\n",
    "print('high level programming language')"
   ]
  },
  {
   "cell_type": "code",
   "execution_count": 44,
   "id": "a714eb8f-1d49-463c-906f-85a5df6fa387",
   "metadata": {},
   "outputs": [
    {
     "name": "stdout",
     "output_type": "stream",
     "text": [
      "5\n"
     ]
    }
   ],
   "source": [
    "a = 5\n",
    "print(5)"
   ]
  },
  {
   "cell_type": "code",
   "execution_count": 5,
   "id": "ebe7d60a-041a-49a8-8444-180839e16fad",
   "metadata": {},
   "outputs": [
    {
     "name": "stdout",
     "output_type": "stream",
     "text": [
      "welcome\n"
     ]
    }
   ],
   "source": [
    "a= 'welcome'\n",
    "print (a)"
   ]
  },
  {
   "cell_type": "code",
   "execution_count": 7,
   "id": "87e1ecaf-083b-4b68-a5af-ab2d5b3cbc1e",
   "metadata": {},
   "outputs": [
    {
     "name": "stdin",
     "output_type": "stream",
     "text": [
      " 6.77\n"
     ]
    },
    {
     "name": "stdout",
     "output_type": "stream",
     "text": [
      "6.77\n"
     ]
    }
   ],
   "source": [
    "#input statement\n",
    "a= input()\n",
    "print (a)"
   ]
  },
  {
   "cell_type": "code",
   "execution_count": 9,
   "id": "edad51a4-8383-401f-86df-0b902b348b4f",
   "metadata": {},
   "outputs": [
    {
     "name": "stdin",
     "output_type": "stream",
     "text": [
      " 67\n",
      " 5\n"
     ]
    },
    {
     "name": "stdout",
     "output_type": "stream",
     "text": [
      "72\n"
     ]
    }
   ],
   "source": [
    "a= int(input())\n",
    "b= int(input())\n",
    "print (a+b)"
   ]
  },
  {
   "cell_type": "code",
   "execution_count": 11,
   "id": "7ae51581-393c-425d-b426-496f88a2a91a",
   "metadata": {},
   "outputs": [
    {
     "name": "stdout",
     "output_type": "stream",
     "text": [
      "20\n",
      "52\n",
      "16\n"
     ]
    }
   ],
   "source": [
    "a,b,c=20,52,16\n",
    "print(a)\n",
    "print(b)\n",
    "print(c)"
   ]
  },
  {
   "cell_type": "code",
   "execution_count": 13,
   "id": "f6273885-c74e-4f6c-96f4-3f70370cd3b7",
   "metadata": {},
   "outputs": [
    {
     "name": "stdout",
     "output_type": "stream",
     "text": [
      "5\n",
      "1\n",
      "6\n",
      "1.5\n",
      "1\n",
      "1\n",
      "9\n"
     ]
    }
   ],
   "source": [
    "#airthmetic operators\n",
    "a=3\n",
    "b=2\n",
    "print(a+b) \n",
    "print(a-b)\n",
    "print(a*b)\n",
    "print(a/b)\n",
    "print(a//b) # division - qoutient\n",
    "print(a%b) #modulus - remainder\n",
    "print(a**b) #exponent"
   ]
  },
  {
   "cell_type": "code",
   "execution_count": 17,
   "id": "24ab8780-70bb-421b-9f19-de6768ae09b6",
   "metadata": {},
   "outputs": [
    {
     "name": "stdout",
     "output_type": "stream",
     "text": [
      "True\n",
      "False\n",
      "False\n",
      "True\n"
     ]
    }
   ],
   "source": [
    "#relational operator\n",
    "a=8\n",
    "b=2\n",
    "print (a>b)\n",
    "print (a<b)\n",
    "print(a==b)\n",
    "print(a!=b)"
   ]
  },
  {
   "cell_type": "code",
   "execution_count": 20,
   "id": "698d11b4-be83-4ef7-be12-9cd75318a845",
   "metadata": {},
   "outputs": [
    {
     "name": "stdout",
     "output_type": "stream",
     "text": [
      "True\n",
      "False\n",
      "True\n",
      "False\n"
     ]
    }
   ],
   "source": [
    "#logical operator\n",
    "a=8\n",
    "b=2\n",
    "c= True\n",
    "print (a==8 and a>b)\n",
    "print (a==8 and a<b)\n",
    "print (a==8 or a<b)\n",
    "print (not c)"
   ]
  },
  {
   "cell_type": "code",
   "execution_count": 21,
   "id": "c295aee1-4799-4fd1-9d79-10d8dcb9540c",
   "metadata": {},
   "outputs": [
    {
     "name": "stdout",
     "output_type": "stream",
     "text": [
      "<class 'int'>\n"
     ]
    }
   ],
   "source": [
    "x=45\n",
    "print(type(x))"
   ]
  },
  {
   "cell_type": "code",
   "execution_count": 22,
   "id": "44535634-9d65-4a96-8dd7-34fa6d77a76a",
   "metadata": {},
   "outputs": [
    {
     "name": "stdout",
     "output_type": "stream",
     "text": [
      "<class 'float'>\n"
     ]
    }
   ],
   "source": [
    "x=6.7\n",
    "print(type(x))"
   ]
  },
  {
   "cell_type": "code",
   "execution_count": 24,
   "id": "64305658-f020-4fdf-b01d-088454768943",
   "metadata": {},
   "outputs": [
    {
     "name": "stdout",
     "output_type": "stream",
     "text": [
      "<class 'bool'>\n"
     ]
    }
   ],
   "source": [
    "x=True\n",
    "print(type(x))"
   ]
  },
  {
   "cell_type": "code",
   "execution_count": 30,
   "id": "7b2ab374-18c3-4542-810a-779fdaa1fae4",
   "metadata": {},
   "outputs": [
    {
     "name": "stdout",
     "output_type": "stream",
     "text": [
      "<class 'str'>\n"
     ]
    }
   ],
   "source": [
    "x='python'\n",
    "print(type(x))"
   ]
  },
  {
   "cell_type": "code",
   "execution_count": 26,
   "id": "5269c4c7-86fb-4734-81ea-730267f8e0fb",
   "metadata": {},
   "outputs": [
    {
     "name": "stdout",
     "output_type": "stream",
     "text": [
      "<class 'complex'>\n"
     ]
    }
   ],
   "source": [
    "x=45+2j\n",
    "print(type(x))"
   ]
  },
  {
   "cell_type": "code",
   "execution_count": 27,
   "id": "1a229252-7daa-4844-bea5-d7790e7e4f77",
   "metadata": {},
   "outputs": [
    {
     "name": "stdout",
     "output_type": "stream",
     "text": [
      "<class 'list'>\n"
     ]
    }
   ],
   "source": [
    "x=[45,32,67]\n",
    "print(type(x))"
   ]
  },
  {
   "cell_type": "code",
   "execution_count": 28,
   "id": "21305c80-0f68-40be-9c17-edf805da2bfa",
   "metadata": {},
   "outputs": [
    {
     "name": "stdout",
     "output_type": "stream",
     "text": [
      "<class 'tuple'>\n"
     ]
    }
   ],
   "source": [
    "x=(45,34,67)\n",
    "print(type(x))"
   ]
  },
  {
   "cell_type": "code",
   "execution_count": 29,
   "id": "d0397e0d-c11a-4d39-974c-47abdfe68732",
   "metadata": {},
   "outputs": [
    {
     "name": "stdout",
     "output_type": "stream",
     "text": [
      "<class 'set'>\n"
     ]
    }
   ],
   "source": [
    "x={45,12,90}\n",
    "print(type(x))"
   ]
  },
  {
   "cell_type": "code",
   "execution_count": 33,
   "id": "343f726c-7a94-4250-ac4d-1fbf9500b796",
   "metadata": {},
   "outputs": [
    {
     "name": "stdout",
     "output_type": "stream",
     "text": [
      "python\n",
      "p\n",
      "y\n"
     ]
    }
   ],
   "source": [
    "print(x)\n",
    "print(x[0])\n",
    "print(x[1])"
   ]
  },
  {
   "cell_type": "code",
   "execution_count": 41,
   "id": "e1ffd7f8-73fd-4103-bd05-3c7a179685c4",
   "metadata": {},
   "outputs": [
    {
     "name": "stdout",
     "output_type": "stream",
     "text": [
      "python programming high level programming language\n",
      "50\n",
      "program\n",
      "e\n",
      "g\n",
      "programming high level programming language\n",
      "python \n"
     ]
    }
   ],
   "source": [
    "x= 'python programming high level programming language'\n",
    "print(x)\n",
    "print(len(x))\n",
    "print(x[7:14]) #slicing\n",
    "print(x[-1])\n",
    "print(x[-2])\n",
    "print (x[7:])\n",
    "print (x[:7])"
   ]
  },
  {
   "cell_type": "code",
   "execution_count": 45,
   "id": "13e396ab-2132-4a0f-9b9e-c625936a7b7a",
   "metadata": {},
   "outputs": [
    {
     "name": "stdout",
     "output_type": "stream",
     "text": [
      "python programming high level\n",
      "python programmingpython programmingpython programming\n",
      "the value of a is 5\n"
     ]
    }
   ],
   "source": [
    "x='python programming'\n",
    "y= 'high level'\n",
    "print(x+' '+y) #concatnation\n",
    "print(x*3)\n",
    "print ('the value of a is', a)"
   ]
  },
  {
   "cell_type": "code",
   "execution_count": 62,
   "id": "5fd99585-ca59-441b-b143-cb5f05374415",
   "metadata": {},
   "outputs": [
    {
     "name": "stdout",
     "output_type": "stream",
     "text": [
      "[5, 6, 8.5, True, 'Irelad']\n",
      "8.5\n",
      "[8.5, True, 'Irelad']\n",
      "[5, 6, 8.5, True, 'Irelad']\n",
      "[5, 6, 8.5, True, 'Irelad', 'india']\n",
      "[5, 6, 66, 8.5, True, 'Irelad', 'india']\n",
      "[5, 6, 66, 8.5, True, 'Irelad', 'india', 23, 55, 90, 14]\n",
      "['program', 6, 66, 8.5, 'Irelad', 'india', 23, 55, 90, 14]\n",
      "['program', 6, 66, 8.5, 'Irelad', 'india', 23, 55, 90]\n",
      "['program', 6, 8.5, 'Irelad', 'india', 23, 55, 90]\n",
      "[23, 55, 90, 14, 'program', 6, 8.5, 'Irelad', 'india', 23, 55, 90]\n"
     ]
    }
   ],
   "source": [
    "#list\n",
    "y= [5,6,8.5,True,'Irelad']\n",
    "print (y)\n",
    "print(y[2])\n",
    "print(y[2:])\n",
    "print (y)\n",
    "y.append('india') #add value in last\n",
    "print(y)\n",
    "y.insert (2,66) #add value between\n",
    "print(y)\n",
    "x=[23,55,90,14]\n",
    "y.extend(x)\n",
    "print( y)\n",
    "y[0]='program' #modify\n",
    "y.remove(True)\n",
    "print(y)\n",
    "y.pop() #remove last by default\n",
    "print (y)\n",
    "y.pop(2)\n",
    "print(y)\n",
    "z=x+y\n",
    "print(z)"
   ]
  },
  {
   "cell_type": "code",
   "execution_count": 64,
   "id": "edbdf804-d7ba-4e30-9a37-7ee1582db72c",
   "metadata": {},
   "outputs": [
    {
     "name": "stdout",
     "output_type": "stream",
     "text": [
      "7\n",
      "assad\n"
     ]
    }
   ],
   "source": [
    "s=[[5,6,7,5],[7.8,'assad',55],[5,8,44]] #nested list\n",
    "print(s[0][2])\n",
    "print(s[1][1])"
   ]
  },
  {
   "cell_type": "code",
   "execution_count": 65,
   "id": "c33a7f7e-1aab-4b2c-891f-39afd67677e4",
   "metadata": {},
   "outputs": [
    {
     "name": "stdout",
     "output_type": "stream",
     "text": [
      "(5, 6, 8.5, True, 'Irelad')\n"
     ]
    }
   ],
   "source": [
    "y= (5,6,8.5,True,'Irelad') #tuple(can't changable\\immutable)\n",
    "print(y) "
   ]
  },
  {
   "cell_type": "code",
   "execution_count": 70,
   "id": "5ef5d004-87e7-4d82-ae16-6a534d15094f",
   "metadata": {},
   "outputs": [
    {
     "name": "stdout",
     "output_type": "stream",
     "text": [
      "{8, 0, 4, 6}\n",
      "{0, 4, 6, 8, 77}\n",
      "{4, 6, 8, 77}\n",
      "{8, 77, 6}\n"
     ]
    }
   ],
   "source": [
    "#set\n",
    "y={8,4,6,8,0} #duplicates are not allowed & unordered\n",
    "print(y)\n",
    "y.add(77)\n",
    "print(y)\n",
    "y.remove(0)\n",
    "print(y)\n",
    "y1= {4} \n",
    "print(y-y1) #remove common value"
   ]
  },
  {
   "cell_type": "code",
   "execution_count": 72,
   "id": "91ebdfa6-7584-4d07-b615-04ca4b4457f2",
   "metadata": {},
   "outputs": [
    {
     "name": "stdout",
     "output_type": "stream",
     "text": [
      "dict_items([('brand', 'BMW'), ('Model', 'M3'), ('YEAR', 2020)])\n",
      "dict_keys(['brand', 'Model', 'YEAR'])\n",
      "dict_values(['BMW', 'M3', 2020])\n",
      "BMW\n"
     ]
    }
   ],
   "source": [
    "#dictionary\n",
    "car={'brand':'BMW','Model':'M3','YEAR':2020}\n",
    "print(car.items())\n",
    "print(car.keys())\n",
    "print(car.values())\n",
    "print(car['brand'])"
   ]
  },
  {
   "cell_type": "code",
   "execution_count": 78,
   "id": "e76fdac3-e1e5-4313-a770-ae8efdf999e1",
   "metadata": {},
   "outputs": [
    {
     "name": "stdout",
     "output_type": "stream",
     "text": [
      "positive\n"
     ]
    }
   ],
   "source": [
    "n=5\n",
    "if n>0:\n",
    "    print('positive')\n",
    "elif n==5:\n",
    "    print('the value is 5')\n",
    "elif n<0:\n",
    "    print('negative')\n",
    "else:\n",
    "    print('else part')"
   ]
  },
  {
   "cell_type": "code",
   "execution_count": 82,
   "id": "ba4dba9f-7c6a-4e61-9717-63632c347f72",
   "metadata": {},
   "outputs": [
    {
     "name": "stdout",
     "output_type": "stream",
     "text": [
      "positive\n",
      "the value is 5\n"
     ]
    }
   ],
   "source": [
    "#nested if\n",
    "n= 5\n",
    "if n>0:\n",
    "    print('positive')\n",
    "    if(n==5):\n",
    "        print('the value is 5')\n",
    "else:\n",
    "    print('negative')"
   ]
  },
  {
   "cell_type": "code",
   "execution_count": 87,
   "id": "00717a41-89b4-47cc-8547-d262ca5550a4",
   "metadata": {},
   "outputs": [
    {
     "name": "stdout",
     "output_type": "stream",
     "text": [
      "1 2 3 4 5 6 7 8 9 "
     ]
    }
   ],
   "source": [
    "#LOOP - Repeats again & Again\n",
    "#for - with range (), without range\n",
    "\n",
    "for i in range(1,10):\n",
    "    print (i, end=' ')"
   ]
  },
  {
   "cell_type": "code",
   "execution_count": 88,
   "id": "7fa432ea-f119-4eca-b541-e211b6a7103a",
   "metadata": {},
   "outputs": [
    {
     "name": "stdout",
     "output_type": "stream",
     "text": [
      "1 4 7 "
     ]
    }
   ],
   "source": [
    "for i in range(1,10,3):\n",
    "    print (i, end=' ')"
   ]
  },
  {
   "cell_type": "code",
   "execution_count": 91,
   "id": "419a4094-8890-4555-b5b3-45510e66cad3",
   "metadata": {},
   "outputs": [
    {
     "name": "stdout",
     "output_type": "stream",
     "text": [
      "20 19 18 17 16 15 14 13 12 11 10 9 8 7 6 5 4 3 2 1 "
     ]
    }
   ],
   "source": [
    "for i in range(20,0,-1):\n",
    "    print (i, end= ' ') "
   ]
  },
  {
   "cell_type": "code",
   "execution_count": 93,
   "id": "bf1ea089-0331-4ae9-afca-a0c7d63e0e66",
   "metadata": {},
   "outputs": [
    {
     "name": "stdout",
     "output_type": "stream",
     "text": [
      "h\n",
      "e\n",
      "l\n",
      "l\n",
      "o\n"
     ]
    }
   ],
   "source": [
    "s= 'hello'\n",
    "n = len (s)\n",
    "for i in range (n):\n",
    "    print (s[i])"
   ]
  },
  {
   "cell_type": "code",
   "execution_count": 95,
   "id": "cfd48632-020d-492c-83cf-6d339fb4a120",
   "metadata": {},
   "outputs": [
    {
     "name": "stdout",
     "output_type": "stream",
     "text": [
      "priya\n",
      "priya\n",
      "priya\n",
      "priya\n",
      "priya\n"
     ]
    }
   ],
   "source": [
    "s= 'priya'\n",
    "n = len (s)\n",
    "for i in range (n):\n",
    "    print (s)"
   ]
  },
  {
   "cell_type": "code",
   "execution_count": 97,
   "id": "8ce1a828-94f5-48c2-964f-a428b87850df",
   "metadata": {},
   "outputs": [
    {
     "name": "stdout",
     "output_type": "stream",
     "text": [
      "6\n",
      "7\n",
      "3\n",
      "4\n",
      "2\n"
     ]
    }
   ],
   "source": [
    "l=[6,7,3,4,2]\n",
    "n=len (l)\n",
    "for i in range (n):\n",
    "    print(l[i])"
   ]
  },
  {
   "cell_type": "code",
   "execution_count": 99,
   "id": "015cd834-10c1-416f-9b15-c168e1aa5687",
   "metadata": {},
   "outputs": [
    {
     "name": "stdout",
     "output_type": "stream",
     "text": [
      "6\n",
      "7\n",
      "3\n",
      "4\n",
      "2\n"
     ]
    }
   ],
   "source": [
    "l=[6,7,3,4,2]\n",
    "for i in l:\n",
    "    print(i)"
   ]
  },
  {
   "cell_type": "code",
   "execution_count": 101,
   "id": "1325b898-96cd-4b91-b46c-ef230ebf51ac",
   "metadata": {},
   "outputs": [
    {
     "name": "stdout",
     "output_type": "stream",
     "text": [
      "big village\n",
      "big town\n",
      "big city\n",
      "small village\n",
      "small town\n",
      "small city\n"
     ]
    }
   ],
   "source": [
    "#nested for\n",
    "a= ['big','small']\n",
    "b= ['village','town','city']\n",
    "for i in a:\n",
    "    for j in b:\n",
    "        print(i,j)\n"
   ]
  },
  {
   "cell_type": "code",
   "execution_count": 102,
   "id": "0b02320e-4b26-42c2-b984-e58815afec0b",
   "metadata": {},
   "outputs": [
    {
     "name": "stdout",
     "output_type": "stream",
     "text": [
      "1 * 1 = 1\n",
      "1 * 2 = 2\n",
      "1 * 3 = 3\n",
      "1 * 4 = 4\n",
      "1 * 5 = 5\n",
      "1 * 6 = 6\n",
      "1 * 7 = 7\n",
      "1 * 8 = 8\n",
      "1 * 9 = 9\n",
      "1 * 10 = 10\n",
      "2 * 1 = 2\n",
      "2 * 2 = 4\n",
      "2 * 3 = 6\n",
      "2 * 4 = 8\n",
      "2 * 5 = 10\n",
      "2 * 6 = 12\n",
      "2 * 7 = 14\n",
      "2 * 8 = 16\n",
      "2 * 9 = 18\n",
      "2 * 10 = 20\n",
      "3 * 1 = 3\n",
      "3 * 2 = 6\n",
      "3 * 3 = 9\n",
      "3 * 4 = 12\n",
      "3 * 5 = 15\n",
      "3 * 6 = 18\n",
      "3 * 7 = 21\n",
      "3 * 8 = 24\n",
      "3 * 9 = 27\n",
      "3 * 10 = 30\n",
      "4 * 1 = 4\n",
      "4 * 2 = 8\n",
      "4 * 3 = 12\n",
      "4 * 4 = 16\n",
      "4 * 5 = 20\n",
      "4 * 6 = 24\n",
      "4 * 7 = 28\n",
      "4 * 8 = 32\n",
      "4 * 9 = 36\n",
      "4 * 10 = 40\n"
     ]
    }
   ],
   "source": [
    "for i in range(1,5):\n",
    "    for j in range (1,11):\n",
    "        print(i,'*',j,'=',i*j)\n",
    "        \n",
    "    "
   ]
  },
  {
   "cell_type": "code",
   "execution_count": 104,
   "id": "edbc2008-2aed-4409-b0b7-9b556ea3a125",
   "metadata": {},
   "outputs": [
    {
     "name": "stdout",
     "output_type": "stream",
     "text": [
      "5\n",
      "6\n",
      "7\n",
      "8\n",
      "9\n"
     ]
    }
   ],
   "source": [
    "#while loop\n",
    "n=5\n",
    "while (n<10):\n",
    "    print(n)\n",
    "    n= n+1"
   ]
  },
  {
   "cell_type": "code",
   "execution_count": 106,
   "id": "98baaef7-05f1-4104-818d-12efdea166a8",
   "metadata": {},
   "outputs": [
    {
     "name": "stdout",
     "output_type": "stream",
     "text": [
      "BMW\n",
      "M3\n",
      "2020\n"
     ]
    }
   ],
   "source": [
    "car={'brand':'BMW','Model':'M3','YEAR':2020}\n",
    "for i in car.values():\n",
    "    print(i)"
   ]
  },
  {
   "cell_type": "code",
   "execution_count": 107,
   "id": "f509069a-0e9f-4a26-8d05-566f6875424a",
   "metadata": {},
   "outputs": [
    {
     "name": "stdout",
     "output_type": "stream",
     "text": [
      "('brand', 'BMW')\n",
      "('Model', 'M3')\n",
      "('YEAR', 2020)\n"
     ]
    }
   ],
   "source": [
    "car={'brand':'BMW','Model':'M3','YEAR':2020}\n",
    "for i in car.items():\n",
    "    print(i)"
   ]
  },
  {
   "cell_type": "code",
   "execution_count": 108,
   "id": "7cfef2de-02e3-4c2f-b05b-f5106cbd5e20",
   "metadata": {},
   "outputs": [
    {
     "ename": "NameError",
     "evalue": "name 'exception' is not defined",
     "output_type": "error",
     "traceback": [
      "\u001b[1;31m---------------------------------------------------------------------------\u001b[0m",
      "\u001b[1;31mNameError\u001b[0m                                 Traceback (most recent call last)",
      "Cell \u001b[1;32mIn[108], line 5\u001b[0m\n\u001b[0;32m      3\u001b[0m x\u001b[38;5;241m=\u001b[39m\u001b[38;5;241m6\u001b[39m\n\u001b[0;32m      4\u001b[0m \u001b[38;5;28;01mif\u001b[39;00m x\u001b[38;5;241m==\u001b[39m\u001b[38;5;241m6\u001b[39m:\n\u001b[1;32m----> 5\u001b[0m     \u001b[38;5;28;01mraise\u001b[39;00m exception (\u001b[38;5;124m'\u001b[39m\u001b[38;5;124minvalid value\u001b[39m\u001b[38;5;124m'\u001b[39m)\n",
      "\u001b[1;31mNameError\u001b[0m: name 'exception' is not defined"
     ]
    }
   ],
   "source": [
    "#exception\n",
    "\n",
    "x=6\n",
    "if x==6:\n",
    "    raise exception ('invalid value')"
   ]
  },
  {
   "cell_type": "code",
   "execution_count": 111,
   "id": "1fa7d2c2-b239-4cbe-8ab0-3a18b294d49a",
   "metadata": {},
   "outputs": [
    {
     "name": "stdout",
     "output_type": "stream",
     "text": [
      "divided by zero error\n",
      "Final Statement\n"
     ]
    }
   ],
   "source": [
    "n=8\n",
    "try:\n",
    "    z=n/0\n",
    "except:\n",
    "    print('divided by zero error')\n",
    "finally:\n",
    "    print('Final Statement')\n",
    "    "
   ]
  },
  {
   "cell_type": "code",
   "execution_count": 114,
   "id": "33d05d11-7247-4446-b7d0-6d9a46f23a1d",
   "metadata": {},
   "outputs": [
    {
     "name": "stdout",
     "output_type": "stream",
     "text": [
      "[6, 4]\n"
     ]
    }
   ],
   "source": [
    "#list comprehnsion\n",
    "a=[5,6,7,4]\n",
    "b=[i for i in a if i%2==0] \n",
    "print (b)"
   ]
  },
  {
   "cell_type": "code",
   "execution_count": null,
   "id": "e2893b3b-e385-4a2a-98f2-8543c24a11cd",
   "metadata": {},
   "outputs": [],
   "source": []
  }
 ],
 "metadata": {
  "kernelspec": {
   "display_name": "Python 3 (ipykernel)",
   "language": "python",
   "name": "python3"
  },
  "language_info": {
   "codemirror_mode": {
    "name": "ipython",
    "version": 3
   },
   "file_extension": ".py",
   "mimetype": "text/x-python",
   "name": "python",
   "nbconvert_exporter": "python",
   "pygments_lexer": "ipython3",
   "version": "3.11.7"
  }
 },
 "nbformat": 4,
 "nbformat_minor": 5
}
